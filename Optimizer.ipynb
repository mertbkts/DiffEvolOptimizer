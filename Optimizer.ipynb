{
 "cells": [
  {
   "cell_type": "code",
   "execution_count": null,
   "metadata": {},
   "outputs": [],
   "source": [
    "import numpy as np\n",
    "from scipy.optimize import minimize\n",
    "import math\n",
    "import time\n",
    "import matplotlib.pyplot as plt"
   ]
  },
  {
   "cell_type": "code",
   "execution_count": null,
   "metadata": {},
   "outputs": [],
   "source": [
    "# Defining functions\n",
    "\n",
    "def booth(v):\n",
    "    x, y = v\n",
    "    f = (x + 2*y - 7)**2 + (2*x + y - 5)**2\n",
    "    return f\n",
    "\n",
    "def three_hump(v):\n",
    "    x, y = v\n",
    "    f = 2*x**2 - 1.05*x**4 + x**6/6 + x*y + y**2\n",
    "    return f\n",
    "\n",
    "def goldstein(v):\n",
    "    x, y = v\n",
    "    f = (1+(x+y+1)**2*(19-14*x+3*x**2-14*y+6*x*y+3*y**2))*(30+(2*x-3*y)**2*(18-32*x+12*x**2+48*y-36*x*y+27*y**2))  \n",
    "    return f\n",
    "\n",
    "def beale(v):\n",
    "    x, y = v\n",
    "    f = (1.5-x+x*y)**2+(2.25-x+x*y**2)**2+(2.625-x+x*y**3)**2    \n",
    "    return f\n",
    "\n",
    "def egg_holder(v):\n",
    "    x, y = v\n",
    "    a= math.sqrt(abs(y+x/2+47))\n",
    "    b= math.sqrt(abs(x-(y+47)))\n",
    "    f = -(y+47)*math.sin(a)-x*math.sin(b)  \n",
    "    return f\n",
    "\n",
    "def schaffer_n4(v):\n",
    "    x, y = v\n",
    "    a = (math.cos(math.sin(abs(x**2-y**2))))**2 - 0.5;\n",
    "    b = (1 + 0.001*(x**2+y**2))**2;\n",
    "    f = 0.5 + a/b\n",
    "    return f\n",
    "\n",
    "def x4x2(v):\n",
    "    x, y = v\n",
    "    f = x**4-x**2\n",
    "    return f"
   ]
  },
  {
   "cell_type": "code",
   "execution_count": null,
   "metadata": {},
   "outputs": [],
   "source": [
    "# Defining solver\n",
    "\n",
    "def my_minimizer(function, bounds):\n",
    "\n",
    "    steps = 0\n",
    "    \n",
    "    minimum = function([0, 0])\n",
    "    min_x, min_y = 0, 0\n",
    "\n",
    "    for i in np.arange(bounds[0][0],bounds[0][1]+0.5, 0.5):\n",
    "        for j in np.arange(bounds[1][0],bounds[1][1]+0.5, 0.5):\n",
    "            steps+=1\n",
    "            temp= function([i, j])\n",
    "            if temp < minimum:\n",
    "                minimum = temp\n",
    "                min_x = i\n",
    "                min_y = j\n",
    "           \n",
    "    print('Minimum objective function: ',minimum)\n",
    "    print('Minimum x: ', min_x)\n",
    "    print('Minimum y: ', min_y)\n",
    "    print(\"Found in \",steps,\"steps\")"
   ]
  },
  {
   "cell_type": "markdown",
   "metadata": {},
   "source": [
    "### Testing"
   ]
  },
  {
   "cell_type": "code",
   "execution_count": null,
   "metadata": {},
   "outputs": [],
   "source": [
    "def testing(function, bounds):\n",
    "\n",
    "    print(\"\\n My function \\n\")\n",
    "\n",
    "    start = time.perf_counter()\n",
    "    my_minimizer(function, bounds)\n",
    "    end = time.perf_counter()\n",
    "    print(\"Calculated in\",round(end-start, 5),\"seconds\")\n",
    "    \n",
    "    print(\"\\n Scipy.optimize \\n\")\n",
    "\n",
    "    start = time.perf_counter()\n",
    "    scipy_result = minimize(function, (0,0), bounds=bounds)\n",
    "    end = time.perf_counter()\n",
    "    print(\"Minimum objective function: \", round(scipy_result.fun))\n",
    "    print(\"Minimum x and y: \", scipy_result.x)\n",
    "    print(\"Calculated in\",round(end-start, 5),\"seconds\")"
   ]
  },
  {
   "cell_type": "code",
   "execution_count": null,
   "metadata": {},
   "outputs": [
    {
     "name": "stdout",
     "output_type": "stream",
     "text": [
      "\n",
      " My function \n",
      "\n",
      "Minimum objective function:  0.0\n",
      "Minimum x:  1.0\n",
      "Minimum y:  3.0\n",
      "Found in  1681 steps\n",
      "Calculated in 0.00132 seconds\n",
      "\n",
      " Scipy.optimize \n",
      "\n",
      "Minimum objective function:  0\n",
      "Minimum x and y:  [0.99999891 3.00000103]\n",
      "Calculated in 0.00108 seconds\n"
     ]
    }
   ],
   "source": [
    "testing(booth, ((-10, 10), (-10, 10)))"
   ]
  },
  {
   "cell_type": "code",
   "execution_count": null,
   "metadata": {},
   "outputs": [
    {
     "name": "stdout",
     "output_type": "stream",
     "text": [
      "\n",
      " My function \n",
      "\n",
      "Minimum objective function:  0.0\n",
      "Minimum x:  0\n",
      "Minimum y:  0\n",
      "Found in  441 steps\n",
      "Calculated in 0.00044 seconds\n",
      "\n",
      " Scipy.optimize \n",
      "\n",
      "Minimum objective function:  0\n",
      "Minimum x and y:  [0. 0.]\n",
      "Calculated in 0.00057 seconds\n"
     ]
    }
   ],
   "source": [
    "testing(three_hump, ((-5, 5), (-5, 5)))"
   ]
  },
  {
   "cell_type": "code",
   "execution_count": null,
   "metadata": {},
   "outputs": [
    {
     "name": "stdout",
     "output_type": "stream",
     "text": [
      "\n",
      " My function \n",
      "\n",
      "Minimum objective function:  3.0\n",
      "Minimum x:  0.0\n",
      "Minimum y:  -1.0\n",
      "Found in  81 steps\n",
      "Calculated in 0.00023 seconds\n",
      "\n",
      " Scipy.optimize \n",
      "\n",
      "Minimum objective function:  30\n",
      "Minimum x and y:  [-0.59999996 -0.40000001]\n",
      "Calculated in 0.00207 seconds\n"
     ]
    }
   ],
   "source": [
    "testing(goldstein, ((-2, 2), (-2, 2)))"
   ]
  },
  {
   "cell_type": "code",
   "execution_count": null,
   "metadata": {},
   "outputs": [
    {
     "name": "stdout",
     "output_type": "stream",
     "text": [
      "\n",
      " My function \n",
      "\n",
      "Minimum objective function:  0.0\n",
      "Minimum x:  3.0\n",
      "Minimum y:  0.5\n",
      "Found in  361 steps\n",
      "Calculated in 0.00045 seconds\n",
      "\n",
      " Scipy.optimize \n",
      "\n",
      "Minimum objective function:  0\n",
      "Minimum x and y:  [3.00000095 0.50000027]\n",
      "Calculated in 0.00223 seconds\n"
     ]
    }
   ],
   "source": [
    "testing(beale, ((-4.5, 4.5), (-4.5, 4.5)))"
   ]
  },
  {
   "cell_type": "code",
   "execution_count": null,
   "metadata": {},
   "outputs": [
    {
     "name": "stdout",
     "output_type": "stream",
     "text": [
      "\n",
      " My function \n",
      "\n",
      "Minimum objective function:  -959.579671903256\n",
      "Minimum x:  512.0\n",
      "Minimum y:  404.0\n",
      "Found in  4198401 steps\n",
      "Calculated in 4.3684 seconds\n",
      "\n",
      " Scipy.optimize \n",
      "\n",
      "Minimum objective function:  -67\n",
      "Minimum x and y:  [ 8.45694373 15.65091305]\n",
      "Calculated in 0.00145 seconds\n"
     ]
    }
   ],
   "source": [
    "testing(egg_holder, ((-512, 512), (-512, 512)))"
   ]
  },
  {
   "cell_type": "code",
   "execution_count": null,
   "metadata": {},
   "outputs": [
    {
     "name": "stdout",
     "output_type": "stream",
     "text": [
      "\n",
      " My function \n",
      "\n",
      "Minimum objective function:  0.3055577842509384\n",
      "Minimum x:  -3.0\n",
      "Minimum y:  -1.0\n",
      "Found in  160801 steps\n",
      "Calculated in 0.19944 seconds\n",
      "\n",
      " Scipy.optimize \n",
      "\n",
      "Minimum objective function:  1\n",
      "Minimum x and y:  [0. 0.]\n",
      "Calculated in 0.00043 seconds\n"
     ]
    }
   ],
   "source": [
    "testing(schaffer_n4, ((-100, 100), (-100, 100)))"
   ]
  },
  {
   "cell_type": "code",
   "execution_count": null,
   "metadata": {},
   "outputs": [
    {
     "name": "stdout",
     "output_type": "stream",
     "text": [
      "\n",
      " My function \n",
      "\n",
      "Minimum objective function:  -0.1875\n",
      "Minimum x:  -0.5\n",
      "Minimum y:  -100.0\n",
      "Found in  160801 steps\n",
      "Calculated in 0.06495 seconds\n",
      "\n",
      " Scipy.optimize \n",
      "\n",
      "Minimum objective function:  0\n",
      "Minimum x and y:  [0. 0.]\n",
      "Calculated in 0.00074 seconds\n"
     ]
    }
   ],
   "source": [
    "testing(x4x2,((-100, 100), (-100, 100)))"
   ]
  }
 ],
 "metadata": {
  "language_info": {
   "name": "python"
  },
  "orig_nbformat": 4
 },
 "nbformat": 4,
 "nbformat_minor": 2
}
